{
 "cells": [
  {
   "cell_type": "raw",
   "metadata": {},
   "source": [
    "时间序列\n",
    "时间戳 Timestamp\n",
    "固定周期 period\n",
    "时间间隔 interval"
   ]
  },
  {
   "cell_type": "code",
   "execution_count": 3,
   "metadata": {},
   "outputs": [
    {
     "data": {
      "text/plain": [
       "DatetimeIndex(['2016-07-01', '2016-07-02', '2016-07-03', '2016-07-04',\n",
       "               '2016-07-05', '2016-07-06', '2016-07-07', '2016-07-08',\n",
       "               '2016-07-09', '2016-07-10'],\n",
       "              dtype='datetime64[ns]', freq='D')"
      ]
     },
     "execution_count": 3,
     "metadata": {},
     "output_type": "execute_result"
    }
   ],
   "source": [
    "# pa.data_range() 可以指定开始时间与周期\n",
    "# H小时，D天，M月\n",
    "\n",
    "import pandas as pd\n",
    "rng = pd.date_range('2016/07/01',periods=10,freq='D')\n",
    "rng"
   ]
  },
  {
   "cell_type": "code",
   "execution_count": 7,
   "metadata": {},
   "outputs": [
    {
     "data": {
      "text/plain": [
       "2016-01-01   -0.834570\n",
       "2016-01-02   -1.163830\n",
       "2016-01-03    0.930881\n",
       "2016-01-04    1.069605\n",
       "2016-01-05   -0.168983\n",
       "2016-01-06   -1.233419\n",
       "2016-01-07    0.176762\n",
       "2016-01-08   -0.862094\n",
       "2016-01-09    0.665800\n",
       "2016-01-10    0.826120\n",
       "2016-01-11   -0.859111\n",
       "2016-01-12    0.475664\n",
       "2016-01-13   -0.599046\n",
       "2016-01-14    1.936862\n",
       "2016-01-15   -0.230649\n",
       "2016-01-16    0.817754\n",
       "2016-01-17   -1.103082\n",
       "2016-01-18    1.120207\n",
       "2016-01-19    0.702375\n",
       "2016-01-20    1.039519\n",
       "Freq: D, dtype: float64"
      ]
     },
     "execution_count": 7,
     "metadata": {},
     "output_type": "execute_result"
    }
   ],
   "source": [
    "import numpy as np\n",
    "time = pd.Series(np.random.randn(20),\n",
    "                index = pd.date_range('2016/01/01',periods = 20))\n",
    "time"
   ]
  },
  {
   "cell_type": "code",
   "execution_count": 18,
   "metadata": {},
   "outputs": [
    {
     "data": {
      "text/plain": [
       "-0.8345696469288153"
      ]
     },
     "execution_count": 18,
     "metadata": {},
     "output_type": "execute_result"
    }
   ],
   "source": [
    "# 索引\n",
    "# 可以通过时间进行索引数据\n",
    "time['2016/01/01']"
   ]
  },
  {
   "cell_type": "code",
   "execution_count": 19,
   "metadata": {},
   "outputs": [
    {
     "data": {
      "text/plain": [
       "2016-01-10    0.826120\n",
       "2016-01-11   -0.859111\n",
       "2016-01-12    0.475664\n",
       "2016-01-13   -0.599046\n",
       "2016-01-14    1.936862\n",
       "2016-01-15   -0.230649\n",
       "2016-01-16    0.817754\n",
       "2016-01-17   -1.103082\n",
       "2016-01-18    1.120207\n",
       "2016-01-19    0.702375\n",
       "2016-01-20    1.039519\n",
       "Freq: D, dtype: float64"
      ]
     },
     "execution_count": 19,
     "metadata": {},
     "output_type": "execute_result"
    }
   ],
   "source": [
    "# truncate 过滤\n",
    "time.truncate(before='2016/1/10')"
   ]
  },
  {
   "cell_type": "code",
   "execution_count": 20,
   "metadata": {},
   "outputs": [
    {
     "data": {
      "text/plain": [
       "2016-01-01   -0.834570\n",
       "2016-01-02   -1.163830\n",
       "2016-01-03    0.930881\n",
       "2016-01-04    1.069605\n",
       "2016-01-05   -0.168983\n",
       "2016-01-06   -1.233419\n",
       "2016-01-07    0.176762\n",
       "2016-01-08   -0.862094\n",
       "2016-01-09    0.665800\n",
       "2016-01-10    0.826120\n",
       "Freq: D, dtype: float64"
      ]
     },
     "execution_count": 20,
     "metadata": {},
     "output_type": "execute_result"
    }
   ],
   "source": [
    "time.truncate(after='2016/1/10')"
   ]
  },
  {
   "cell_type": "code",
   "execution_count": 21,
   "metadata": {},
   "outputs": [
    {
     "data": {
      "text/plain": [
       "Timestamp('2016-01-07 00:00:00')"
      ]
     },
     "execution_count": 21,
     "metadata": {},
     "output_type": "execute_result"
    }
   ],
   "source": [
    "# 时间戳\n",
    "pd.Timestamp('2016/01/07')"
   ]
  },
  {
   "cell_type": "code",
   "execution_count": 22,
   "metadata": {},
   "outputs": [
    {
     "data": {
      "text/plain": [
       "Timestamp('2016-01-07 10:15:00')"
      ]
     },
     "execution_count": 22,
     "metadata": {},
     "output_type": "execute_result"
    }
   ],
   "source": [
    "# 时间戳可以指定更多的细节\n",
    "pd.Timestamp('2016/01/07 10:15')"
   ]
  },
  {
   "cell_type": "code",
   "execution_count": 23,
   "metadata": {},
   "outputs": [
    {
     "data": {
      "text/plain": [
       "Period('2016-01', 'M')"
      ]
     },
     "execution_count": 23,
     "metadata": {},
     "output_type": "execute_result"
    }
   ],
   "source": [
    "# 时间区间\n",
    "pd.Period('2016/01')"
   ]
  },
  {
   "cell_type": "code",
   "execution_count": 24,
   "metadata": {},
   "outputs": [
    {
     "data": {
      "text/plain": [
       "Period('2016-01-01', 'D')"
      ]
     },
     "execution_count": 24,
     "metadata": {},
     "output_type": "execute_result"
    }
   ],
   "source": [
    "pd.Period('2016/01/01')"
   ]
  },
  {
   "cell_type": "code",
   "execution_count": 25,
   "metadata": {},
   "outputs": [
    {
     "data": {
      "text/plain": [
       "Period('2016-01-02 10:10', 'T')"
      ]
     },
     "execution_count": 25,
     "metadata": {},
     "output_type": "execute_result"
    }
   ],
   "source": [
    "# Time Offsets\n",
    "pd.Period('2016/01/01 10:10') + pd.Timedelta('1 day')"
   ]
  },
  {
   "cell_type": "code",
   "execution_count": 29,
   "metadata": {},
   "outputs": [
    {
     "data": {
      "text/plain": [
       "Period('2016-01-01 10:10:15', 'S')"
      ]
     },
     "execution_count": 29,
     "metadata": {},
     "output_type": "execute_result"
    }
   ],
   "source": [
    "pd.Period('2016/01/01 10:10:00') + pd.Timedelta('15s')"
   ]
  },
  {
   "cell_type": "code",
   "execution_count": null,
   "metadata": {
    "collapsed": true
   },
   "outputs": [],
   "source": []
  }
 ],
 "metadata": {
  "kernelspec": {
   "display_name": "Python 3",
   "language": "python",
   "name": "python3"
  },
  "language_info": {
   "codemirror_mode": {
    "name": "ipython",
    "version": 3
   },
   "file_extension": ".py",
   "mimetype": "text/x-python",
   "name": "python",
   "nbconvert_exporter": "python",
   "pygments_lexer": "ipython3",
   "version": "3.6.3"
  }
 },
 "nbformat": 4,
 "nbformat_minor": 2
}
